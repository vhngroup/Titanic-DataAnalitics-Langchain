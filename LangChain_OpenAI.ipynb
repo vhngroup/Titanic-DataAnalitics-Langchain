{
 "cells": [
  {
   "cell_type": "code",
   "execution_count": 56,
   "id": "f2dd2112-2f8c-4645-9d1b-87ae00b76196",
   "metadata": {},
   "outputs": [],
   "source": [
    "!pip install langchain langchain_openai langchain_experimental pandas numpy tabulate openpyxl -q"
   ]
  },
  {
   "cell_type": "code",
   "execution_count": 57,
   "id": "4b560558-49d0-4cd2-b84e-a7003c9e6a83",
   "metadata": {},
   "outputs": [],
   "source": [
    "from langchain_openai import ChatOpenAI\n",
    "from langchain_experimental.agents.agent_toolkits import create_pandas_dataframe_agent\n",
    "from langchain.agents.agent_types import AgentType\n",
    "from langchain.schema.output_parser import StrOutputParser\n",
    "from langchain.output_parsers import PandasDataFrameOutputParser\n",
    "from langchain.prompts import ChatPromptTemplate, PromptTemplate\n",
    "import pandas as pd\n",
    "from dotenv import load_dotenv, find_dotenv\n",
    "import numpy as np\n",
    "import os"
   ]
  },
  {
   "cell_type": "code",
   "execution_count": 61,
   "id": "dc6fc03c-3f14-433d-b029-57b33317e66d",
   "metadata": {},
   "outputs": [
    {
     "data": {
      "text/html": [
       "<div>\n",
       "<style scoped>\n",
       "    .dataframe tbody tr th:only-of-type {\n",
       "        vertical-align: middle;\n",
       "    }\n",
       "\n",
       "    .dataframe tbody tr th {\n",
       "        vertical-align: top;\n",
       "    }\n",
       "\n",
       "    .dataframe thead th {\n",
       "        text-align: right;\n",
       "    }\n",
       "</style>\n",
       "<table border=\"1\" class=\"dataframe\">\n",
       "  <thead>\n",
       "    <tr style=\"text-align: right;\">\n",
       "      <th></th>\n",
       "      <th>PassengerId</th>\n",
       "      <th>Survived</th>\n",
       "      <th>Pclass</th>\n",
       "      <th>Name</th>\n",
       "      <th>Sex</th>\n",
       "      <th>Age</th>\n",
       "      <th>SibSp</th>\n",
       "      <th>Parch</th>\n",
       "      <th>Ticket</th>\n",
       "      <th>Fare</th>\n",
       "      <th>Cabin</th>\n",
       "      <th>Embarked</th>\n",
       "    </tr>\n",
       "  </thead>\n",
       "  <tbody>\n",
       "    <tr>\n",
       "      <th>0</th>\n",
       "      <td>1</td>\n",
       "      <td>0</td>\n",
       "      <td>3</td>\n",
       "      <td>Braund, Mr. Owen Harris</td>\n",
       "      <td>male</td>\n",
       "      <td>22.0</td>\n",
       "      <td>1</td>\n",
       "      <td>0</td>\n",
       "      <td>A/5 21171</td>\n",
       "      <td>7.2500</td>\n",
       "      <td>NaN</td>\n",
       "      <td>S</td>\n",
       "    </tr>\n",
       "    <tr>\n",
       "      <th>1</th>\n",
       "      <td>2</td>\n",
       "      <td>1</td>\n",
       "      <td>1</td>\n",
       "      <td>Cumings, Mrs. John Bradley (Florence Briggs Th...</td>\n",
       "      <td>female</td>\n",
       "      <td>38.0</td>\n",
       "      <td>1</td>\n",
       "      <td>0</td>\n",
       "      <td>PC 17599</td>\n",
       "      <td>71.2833</td>\n",
       "      <td>C85</td>\n",
       "      <td>C</td>\n",
       "    </tr>\n",
       "    <tr>\n",
       "      <th>2</th>\n",
       "      <td>3</td>\n",
       "      <td>1</td>\n",
       "      <td>3</td>\n",
       "      <td>Heikkinen, Miss Laina</td>\n",
       "      <td>female</td>\n",
       "      <td>26.0</td>\n",
       "      <td>0</td>\n",
       "      <td>0</td>\n",
       "      <td>STON/O2. 3101282</td>\n",
       "      <td>7.9250</td>\n",
       "      <td>NaN</td>\n",
       "      <td>S</td>\n",
       "    </tr>\n",
       "    <tr>\n",
       "      <th>3</th>\n",
       "      <td>4</td>\n",
       "      <td>1</td>\n",
       "      <td>1</td>\n",
       "      <td>Futrelle, Mrs. Jacques Heath (Lily May Peel)</td>\n",
       "      <td>female</td>\n",
       "      <td>35.0</td>\n",
       "      <td>1</td>\n",
       "      <td>0</td>\n",
       "      <td>113803</td>\n",
       "      <td>53.1000</td>\n",
       "      <td>C123</td>\n",
       "      <td>S</td>\n",
       "    </tr>\n",
       "    <tr>\n",
       "      <th>4</th>\n",
       "      <td>5</td>\n",
       "      <td>0</td>\n",
       "      <td>3</td>\n",
       "      <td>Allen, Mr. William Henry</td>\n",
       "      <td>male</td>\n",
       "      <td>35.0</td>\n",
       "      <td>0</td>\n",
       "      <td>0</td>\n",
       "      <td>373450</td>\n",
       "      <td>8.0500</td>\n",
       "      <td>NaN</td>\n",
       "      <td>S</td>\n",
       "    </tr>\n",
       "  </tbody>\n",
       "</table>\n",
       "</div>"
      ],
      "text/plain": [
       "   PassengerId  Survived  Pclass  \\\n",
       "0            1         0       3   \n",
       "1            2         1       1   \n",
       "2            3         1       3   \n",
       "3            4         1       1   \n",
       "4            5         0       3   \n",
       "\n",
       "                                                Name     Sex   Age  SibSp  \\\n",
       "0                            Braund, Mr. Owen Harris    male  22.0      1   \n",
       "1  Cumings, Mrs. John Bradley (Florence Briggs Th...  female  38.0      1   \n",
       "2                              Heikkinen, Miss Laina  female  26.0      0   \n",
       "3       Futrelle, Mrs. Jacques Heath (Lily May Peel)  female  35.0      1   \n",
       "4                           Allen, Mr. William Henry    male  35.0      0   \n",
       "\n",
       "   Parch            Ticket     Fare Cabin Embarked  \n",
       "0      0         A/5 21171   7.2500   NaN        S  \n",
       "1      0          PC 17599  71.2833   C85        C  \n",
       "2      0  STON/O2. 3101282   7.9250   NaN        S  \n",
       "3      0            113803  53.1000  C123        S  \n",
       "4      0            373450   8.0500   NaN        S  "
      ]
     },
     "execution_count": 61,
     "metadata": {},
     "output_type": "execute_result"
    }
   ],
   "source": [
    "df = pd.read_csv(\"Titanic.csv\") #El Data set esta asociado a las persona que estuvieron en el Titanic\n",
    "df.head() #Confirmamos estructura y lectura del CSV."
   ]
  },
  {
   "cell_type": "code",
   "execution_count": 60,
   "id": "c8cb6a19-04f8-428e-a849-9fffedf7d09c",
   "metadata": {},
   "outputs": [],
   "source": [
    "Api_Key = os.getenv('OPENAI_API_KEY') #Usamos dotenv para almacenar la clave de la API con la que nos conectamos a OPENAI.\n",
    "os.environ[\"OPENAI_API_KEY\"] = Api_Key #Pasamos la clave de la API de OpenAI\n",
    "# os.environ[\"OPENAI_API_KEY\"] = \"TuClave de OPENAI\" Tambien podemos usar esta linea por si no usamos dotenv\n",
    "model = \"gpt-3.5-turbo-16k\" #Seleccionamos el modelo a utilizar\n",
    "llm_model = ChatOpenAI(model = model, temperature=0, verbose = True, streaming=True) #Creamos el modelo."
   ]
  },
  {
   "cell_type": "markdown",
   "id": "387fcad9-22c1-4c41-9747-b353671a9a61",
   "metadata": {},
   "source": [
    "## Escenario 1. Consultamos sin usar Data Agent de Pandas.\n",
    "La desventaja de esta metodo, es que ante preguntas complejas generar error. Funciona para consultas sencilla"
   ]
  },
  {
   "cell_type": "code",
   "execution_count": 62,
   "id": "bae2ac70-22f7-4a70-99d4-f383084653b7",
   "metadata": {},
   "outputs": [],
   "source": [
    "#Creamos el prompt\n",
    "df_parser = PandasDataFrameOutputParser(dataframe=df)\n",
    "prompt= PromptTemplate (\n",
    "    template = \"Responde al usuario su consulta. \\n{format_instructions}\\n{query}\\n\",\n",
    "    input_variables = [\"query\"],\n",
    "    partial_variables = {\"format_instructions\": df_parser.get_format_instructions()},\n",
    ")\n",
    "\n",
    "chain = prompt | llm_model | df_parser"
   ]
  },
  {
   "cell_type": "code",
   "execution_count": 63,
   "id": "7f40075e-1054-4cfb-bc15-0277238ef749",
   "metadata": {
    "scrolled": true
   },
   "outputs": [
    {
     "data": {
      "text/plain": [
       "{'0': PassengerId                          1\n",
       " Survived                             0\n",
       " Pclass                               3\n",
       " Name           Braund, Mr. Owen Harris\n",
       " Sex                               male\n",
       " Age                               22.0\n",
       " SibSp                                1\n",
       " Parch                                0\n",
       " Ticket                       A/5 21171\n",
       " Fare                              7.25\n",
       " Cabin                              NaN\n",
       " Embarked                             S\n",
       " Name: 0, dtype: object}"
      ]
     },
     "execution_count": 63,
     "metadata": {},
     "output_type": "execute_result"
    }
   ],
   "source": [
    "# Hacemos la pregunta a ser respondida por el modelo. Y nos da una respuesta correcta.\n",
    "chain.invoke({\n",
    "    \"query\":\"dame la primera fila.\"\n",
    "})"
   ]
  },
  {
   "cell_type": "markdown",
   "id": "5bc25f81-3ac6-4955-9f1c-561e7c5e964e",
   "metadata": {},
   "source": [
    "## Escnerario 2: Usamos el Data Agent de Pandas, para que ante preguntas complejas nos de respuestas correctas.\n",
    "La ventaja de usar el Data Agent de pandas, es que sirve e intermedio entre el lenguaje natural y el modelo, enviandole intrucciones mas \"precisas\" al modelo."
   ]
  },
  {
   "cell_type": "code",
   "execution_count": 65,
   "id": "7fa2052f-4fb5-44da-96d7-01c999a22cb9",
   "metadata": {},
   "outputs": [],
   "source": [
    "#Creamos el Data Agent\n",
    "pandas_df_agent = create_pandas_dataframe_agent(\n",
    "    llm = llm_model, #modelo a usar\n",
    "    df=df, #dataFrame\n",
    "    verbose=True, #Mostrar en pantalla que realiza\n",
    "    #handle_parsing_errors=True, #Tratamiento de errores\n",
    "    agent_type = AgentType.OPENAI_FUNCTIONS, #El tipo de agente a usar\n",
    "    allow_dangerous_code = True, #De debe agregar, ya que estamos ejecutando el modelo fuera del SandBox, no recomendado por seguridad.\n",
    "    return_intermediate_steps=True) #Retorno de etapas intermedias."
   ]
  },
  {
   "cell_type": "code",
   "execution_count": 66,
   "id": "78ba6426-dc2d-4718-8fad-02eec663dd54",
   "metadata": {},
   "outputs": [
    {
     "name": "stdout",
     "output_type": "stream",
     "text": [
      "\n",
      "\n",
      "\u001b[1m> Entering new AgentExecutor chain...\u001b[0m\n",
      "\u001b[32;1m\u001b[1;3m\n",
      "Invoking: `python_repl_ast` with `{'query': \"df[df['Sex'] == 'female']['Age'].mean()\"}`\n",
      "\n",
      "\n",
      "\u001b[0m\u001b[36;1m\u001b[1;3m27.915708812260537\u001b[0m\u001b[32;1m\u001b[1;3mLa edad media de las mujeres en el dataframe es de aproximadamente 27.92 años.\u001b[0m\n",
      "\n",
      "\u001b[1m> Finished chain.\u001b[0m\n"
     ]
    }
   ],
   "source": [
    "#Hacemos la pregunta y su respuesta es acertada.\n",
    "Pandas_result = pandas_df_agent.invoke(\"cual es la edad media de las mujeres\")"
   ]
  },
  {
   "cell_type": "code",
   "execution_count": 67,
   "id": "d2c5ef07-13fc-445d-8488-ef3a3ed3e6c9",
   "metadata": {},
   "outputs": [
    {
     "name": "stdout",
     "output_type": "stream",
     "text": [
      "\n",
      "\n",
      "\u001b[1m> Entering new AgentExecutor chain...\u001b[0m\n",
      "\u001b[32;1m\u001b[1;3m\n",
      "Invoking: `python_repl_ast` with `{'query': \"df[df['Survived'] == 1]['Name']\"}`\n",
      "\n",
      "\n",
      "\u001b[0m\u001b[36;1m\u001b[1;3m1      Cumings, Mrs. John Bradley (Florence Briggs Th...\n",
      "2                                  Heikkinen, Miss Laina\n",
      "3           Futrelle, Mrs. Jacques Heath (Lily May Peel)\n",
      "8      Johnson, Mrs. Oscar W (Elisabeth Vilhelmina Berg)\n",
      "9                    Nasser, Mrs. Nicholas (Adele Achem)\n",
      "                             ...                        \n",
      "875                      Najib, Miss Adele Kiamie \"Jane\"\n",
      "879        Potter, Mrs. Thomas Jr (Lily Alexenia Wilson)\n",
      "880         Shelley, Mrs. William (Imanita Parrish Hall)\n",
      "887                          Graham, Miss Margaret Edith\n",
      "889                                Behr, Mr. Karl Howell\n",
      "Name: Name, Length: 342, dtype: object\u001b[0m\u001b[32;1m\u001b[1;3mLos nombres de las personas que sobrevivieron son:\n",
      "\n",
      "1. Cumings, Mrs. John Bradley (Florence Briggs Thayer)\n",
      "2. Heikkinen, Miss Laina\n",
      "3. Futrelle, Mrs. Jacques Heath (Lily May Peel)\n",
      "4. Johnson, Mrs. Oscar W (Elisabeth Vilhelmina Berg)\n",
      "5. Nasser, Mrs. Nicholas (Adele Achem)\n",
      "...\n",
      "342. Behr, Mr. Karl Howell\u001b[0m\n",
      "\n",
      "\u001b[1m> Finished chain.\u001b[0m\n"
     ]
    }
   ],
   "source": [
    "#Hacemos la pregunta y su respuesta es acertada.\n",
    "Pandas_result = pandas_df_agent.invoke(\"Cuales son los nombres que las personas que sobrevivieron\")"
   ]
  }
 ],
 "metadata": {
  "kernelspec": {
   "display_name": "Python 3 (ipykernel)",
   "language": "python",
   "name": "python3"
  },
  "language_info": {
   "codemirror_mode": {
    "name": "ipython",
    "version": 3
   },
   "file_extension": ".py",
   "mimetype": "text/x-python",
   "name": "python",
   "nbconvert_exporter": "python",
   "pygments_lexer": "ipython3",
   "version": "3.11.7"
  }
 },
 "nbformat": 4,
 "nbformat_minor": 5
}
